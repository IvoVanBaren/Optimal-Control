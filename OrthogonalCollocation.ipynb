{
  "nbformat": 4,
  "nbformat_minor": 0,
  "metadata": {
    "colab": {
      "name": "OrthogonalCollocation.ipynb",
      "provenance": [],
      "toc_visible": true,
      "include_colab_link": true
    },
    "kernelspec": {
      "name": "python3",
      "display_name": "Python 3"
    },
    "widgets": {
      "application/vnd.jupyter.widget-state+json": {
        "d4419febd6d24f45aadd5bf316720631": {
          "model_module": "@jupyter-widgets/output",
          "model_name": "OutputModel",
          "model_module_version": "1.0.0",
          "state": {
            "_dom_classes": [],
            "_model_module": "@jupyter-widgets/output",
            "_model_module_version": "1.0.0",
            "_model_name": "OutputModel",
            "_view_count": null,
            "_view_module": "@jupyter-widgets/output",
            "_view_module_version": "1.0.0",
            "_view_name": "OutputView",
            "layout": "IPY_MODEL_43aa609d41fa48ca9878c0345ced7fa0",
            "msg_id": "",
            "outputs": [
              {
                "output_type": "display_data",
                "data": {
                  "text/plain": "   \u001b[38;2;249;38;114m━━━━━━━━━━━━━━━━━━━━━━━━━━━━━━━━━━━━━━━\u001b[0m\u001b[38;2;249;38;114m╸\u001b[0m \u001b[32m13.2/13.2 MB\u001b[0m \u001b[31m94.3 MB/s\u001b[0m eta \u001b[36m0:00:01\u001b[0m\n",
                  "text/html": "<pre style=\"white-space:pre;overflow-x:auto;line-height:normal;font-family:Menlo,'DejaVu Sans Mono',consolas,'Courier New',monospace\">   <span style=\"color: #f92672; text-decoration-color: #f92672\">━━━━━━━━━━━━━━━━━━━━━━━━━━━━━━━━━━━━━━━╸</span> <span style=\"color: #008000; text-decoration-color: #008000\">13.2/13.2 MB</span> <span style=\"color: #800000; text-decoration-color: #800000\">94.3 MB/s</span> eta <span style=\"color: #008080; text-decoration-color: #008080\">0:00:01</span>\n</pre>\n"
                },
                "metadata": {}
              }
            ]
          }
        },
        "43aa609d41fa48ca9878c0345ced7fa0": {
          "model_module": "@jupyter-widgets/base",
          "model_name": "LayoutModel",
          "model_module_version": "1.2.0",
          "state": {
            "_model_module": "@jupyter-widgets/base",
            "_model_module_version": "1.2.0",
            "_model_name": "LayoutModel",
            "_view_count": null,
            "_view_module": "@jupyter-widgets/base",
            "_view_module_version": "1.2.0",
            "_view_name": "LayoutView",
            "align_content": null,
            "align_items": null,
            "align_self": null,
            "border": null,
            "bottom": null,
            "display": null,
            "flex": null,
            "flex_flow": null,
            "grid_area": null,
            "grid_auto_columns": null,
            "grid_auto_flow": null,
            "grid_auto_rows": null,
            "grid_column": null,
            "grid_gap": null,
            "grid_row": null,
            "grid_template_areas": null,
            "grid_template_columns": null,
            "grid_template_rows": null,
            "height": null,
            "justify_content": null,
            "justify_items": null,
            "left": null,
            "margin": null,
            "max_height": null,
            "max_width": null,
            "min_height": null,
            "min_width": null,
            "object_fit": null,
            "object_position": null,
            "order": null,
            "overflow": null,
            "overflow_x": null,
            "overflow_y": null,
            "padding": null,
            "right": null,
            "top": null,
            "visibility": null,
            "width": null
          }
        }
      }
    }
  },
  "cells": [
    {
      "cell_type": "markdown",
      "metadata": {
        "id": "view-in-github",
        "colab_type": "text"
      },
      "source": [
        "<a href=\"https://colab.research.google.com/github/IvoVanBaren/Optimal-Control/blob/main/OrthogonalCollocation.ipynb\" target=\"_parent\"><img src=\"https://colab.research.google.com/assets/colab-badge.svg\" alt=\"Open In Colab\"/></a>"
      ]
    },
    {
      "metadata": {
        "id": "ofVlFxXQ8NuN"
      },
      "cell_type": "markdown",
      "source": [
        "#Orthogonal Collocation on Finite Elements\n",
        "\n",
        "Discretization of a continuous time representation allow large-scale nonlinear programming (NLP) solvers to find solutions at specified intervals in a time horizon. There are many names and related techniques for obtaining mathematical relationships between derivatives and non-derivative values. Some of the terms that are relevant to this discussion include orthogonal collocation on finite elements, direct transcription, Gauss pseudospectral method, Gaussian quadrature, Lobatto quadrature, Radau collocation, Legendre polynomials, Chebyshev polynomials, Jacobi polynomials, Laguerre polynomials, any many more. There are many papers that discuss the details of the derivation and theory behind these methods1-5. The purpose of this section is to give a practical introduction to orthogonal collocation on finite elements with Lobatto quadrature for the numerical solution of differential algebraic equations."
      ]
    },
    {
      "metadata": {
        "id": "98yAVuQu8j-G",
        "cellView": "form",
        "outputId": "5736a871-0d46-4c2d-a0e1-c7a9a83a98cb",
        "colab": {
          "base_uri": "https://localhost:8080/",
          "height": 336
        }
      },
      "cell_type": "code",
      "source": [
        "#@title\n",
        "%%html\n",
        "<iframe width=\"560\" height=\"315\" src=\"https://www.youtube.com/embed/0UL-Y_mEIuI\" frameborder=\"0\" allow=\"autoplay; encrypted-media\" allowfullscreen></iframe>"
      ],
      "execution_count": null,
      "outputs": [
        {
          "output_type": "display_data",
          "data": {
            "text/html": [
              "<iframe width=\"560\" height=\"315\" src=\"https://www.youtube.com/embed/0UL-Y_mEIuI\" frameborder=\"0\" allow=\"autoplay; encrypted-media\" allowfullscreen></iframe>"
            ],
            "text/plain": [
              "<IPython.core.display.HTML object>"
            ]
          },
          "metadata": {
            "tags": []
          }
        }
      ]
    },
    {
      "metadata": {
        "id": "n-ZGK9Wj823w",
        "outputId": "993655e9-073f-45b3-eee9-5dd741e9dad0",
        "colab": {
          "base_uri": "https://localhost:8080/",
          "height": 449
        }
      },
      "cell_type": "code",
      "source": [
        "#@markdown ###Orthogonal Collocation 1\n",
        "\n",
        "# Solve tau dx/dt = -x\n",
        "import numpy as np\n",
        "from numpy.linalg import inv\n",
        "\n",
        "## problem statement\n",
        "x0 = 3.0  # initial condition\n",
        "tf = 10.0 # final time\n",
        "tau = 5.0 # model parameter (time constant)\n",
        "\n",
        "## analytic solution\n",
        "time = np.linspace(0,tf,100)\n",
        "x = x0*np.exp(-time/tau)\n",
        "\n",
        "## numeric solutions\n",
        "# 2nd order polynomial (3 points)\n",
        "t2 = tf * np.array([0.0,0.5,1.0])\n",
        "N2 = np.array([[0.75,-0.25], \\\n",
        "               [1.00, 0.00]])\n",
        "M2 = inv(tf * N2)\n",
        "# Solve linear system of equations by matrix manipulation\n",
        "P2 = tau*M2 + np.eye(2)\n",
        "Q2 = np.dot(inv(P2),(tau*M2))\n",
        "v2 = np.dot(Q2, np.ones(2)*x0)\n",
        "x2 = np.insert(v2,0,x0)\n",
        "\n",
        "# 3rd order polynomial (4 points)\n",
        "t3 = tf * np.array([0.0, \\\n",
        "                    1.0/2.0-np.sqrt(5.0)/10.0, \\\n",
        "                    1.0/2.0+np.sqrt(5.0)/10.0, \\\n",
        "                    1.0])\n",
        "N3 = np.array([[0.436,-0.281, 0.121], \\\n",
        "               [0.614, 0.064, 0.046], \\\n",
        "               [0.603, 0.230, 0.167]])\n",
        "M3 = inv(tf * N3)\n",
        "# Solve linear system of equations by matrix manipulation\n",
        "P3 = tau * M3 + np.eye(3)\n",
        "Q3 = np.dot(inv(P3),(tau*M3))\n",
        "v3 = np.dot(Q3, np.ones(3)*x0)\n",
        "x3 = np.insert(v3,0,x0)\n",
        "\n",
        "# 4th order polynomial (5 points)\n",
        "t4 = tf * np.array([0.0, \\\n",
        "                    1.0/2.0-np.sqrt(21.0)/14.0, \\\n",
        "                    1.0/2.0, \\\n",
        "                    1.0/2.0+np.sqrt(21.0)/14.0, \\\n",
        "                    1.0])\n",
        "N4 = np.array([[0.278, -0.202, 0.169, -0.071], \\\n",
        "               [0.398,  0.069, 0.064, -0.031], \\\n",
        "               [0.387,  0.234, 0.278, -0.071], \\\n",
        "               [0.389,  0.222, 0.389,  0.000]])\n",
        "M4 = inv(tf * N4)\n",
        "# Solve linear system of equations by matrix manipulation\n",
        "P4 = tau * M4 + np.eye(4)\n",
        "Q4 = np.dot(inv(P4),(tau*M4))\n",
        "v4 = np.dot(Q4, np.ones(4)*x0)\n",
        "x4 = np.insert(v4,0,x0)\n",
        "\n",
        "# compare results\n",
        "import matplotlib.pyplot as plt\n",
        "plt.figure(1)\n",
        "plt.subplot(2,1,1)\n",
        "plt.plot(time,x,'r-',linewidth=3)\n",
        "plt.plot(t2,x2,'b-.',linewidth=2,markersize=20)\n",
        "plt.plot(t3,x3,'k:.',linewidth=2,markersize=20)\n",
        "plt.plot(t4,x4,'g.-',linewidth=2,markersize=20)\n",
        "plt.xlabel('Time')\n",
        "plt.ylabel('Value')\n",
        "plt.legend(['Exact','3 Points','4 Points','5 Points'])\n",
        "plt.text(2,0.5,'tau dx/dt = -x')\n",
        "\n",
        "plt.subplot(2,1,2)\n",
        "# exact solutions at collocation points\n",
        "y2 = x0*np.exp(-t2/tau)\n",
        "y3 = x0*np.exp(-t3/tau)\n",
        "y4 = x0*np.exp(-t4/tau)\n",
        "plt.plot(t2,x2-y2,'b--.',linewidth=2,markersize=20)\n",
        "plt.plot(t3,x3-y3,'k:.',linewidth=2,markersize=20)\n",
        "plt.plot(t4,x4-y4,'g.-',linewidth=2,markersize=20)\n",
        "plt.xlabel('Time')\n",
        "plt.ylabel('Error')\n",
        "plt.legend(['3 Points','4 Points','5 Points'])\n",
        "plt.show()\n"
      ],
      "execution_count": 1,
      "outputs": [
        {
          "output_type": "display_data",
          "data": {
            "text/plain": [
              "<Figure size 640x480 with 2 Axes>"
            ],
            "image/png": "[encoded data removed]"
          },
          "metadata": {}
        }
      ]
    },
    {
      "metadata": {
        "id": "1a5Z7nmi-F__",
        "cellView": "form",
        "outputId": "8d4155dc-ffbb-4b64-f9a8-58ff883936d6",
        "colab": {
          "base_uri": "https://localhost:8080/",
          "height": 361
        }
      },
      "cell_type": "code",
      "source": [
        "#@markdown ###Orthogonal Collocation 2\n",
        "\n",
        "# Solve tau dx/dt = -x + k u\n",
        "import numpy as np\n",
        "from numpy.linalg import inv\n",
        "\n",
        "## problem statement\n",
        "x0 = 0.0  # initial condition\n",
        "tf = 10.0 # final time\n",
        "tau = 5.0 # model parameter (time constant)\n",
        "k = 2.0   # gain\n",
        "\n",
        "## analytic solution\n",
        "time = np.linspace(0,tf)\n",
        "x = k*(1.0-np.exp(-time/tau))\n",
        "\n",
        "## numeric solutions\n",
        "# 2nd order polynomial (3 points)\n",
        "t2 = tf * np.array([0.0,0.5,1.0])\n",
        "N2 = np.array([[0.75,-0.25], \\\n",
        "               [1.00, 0.00]])\n",
        "M2 = inv(tf * N2)\n",
        "# Solve linear system of equations by matrix manipulation\n",
        "P2 = inv(tau*M2 + np.eye(2))\n",
        "Q2 = np.dot(tau*M2,np.ones(2)*x0) + k*np.ones(2)\n",
        "v2 = np.dot(P2, Q2)\n",
        "x2 = np.insert(v2,0,x0)\n",
        "\n",
        "# 3rd order polynomial (4 points)\n",
        "t3 = tf * np.array([0.0, \\\n",
        "                    1.0/2.0-np.sqrt(5.0)/10.0, \\\n",
        "                    1.0/2.0+np.sqrt(5.0)/10.0, \\\n",
        "                    1.0])\n",
        "N3 = np.array([[0.436,-0.281, 0.121], \\\n",
        "               [0.614, 0.064, 0.046], \\\n",
        "               [0.603, 0.230, 0.167]])\n",
        "M3 = inv(tf * N3)\n",
        "# Solve linear system of equations by matrix manipulation\n",
        "P3 = inv(tau*M3 + np.eye(3))\n",
        "Q3 = np.dot(tau*M3,np.ones(3)*x0) + k*np.ones(3)\n",
        "v3 = np.dot(P3, Q3)\n",
        "x3 = np.insert(v3,0,x0)\n",
        "\n",
        "# 4th order polynomial (5 points)\n",
        "t4 = tf * np.array([0.0, \\\n",
        "                    1.0/2.0-np.sqrt(21.0)/14.0, \\\n",
        "                    1.0/2.0, \\\n",
        "                    1.0/2.0+np.sqrt(21.0)/14.0, \\\n",
        "                    1.0])\n",
        "N4 = np.array([[0.278, -0.202, 0.169, -0.071], \\\n",
        "               [0.398,  0.069, 0.064, -0.031], \\\n",
        "               [0.387,  0.234, 0.278, -0.071], \\\n",
        "               [0.389,  0.222, 0.389,  0.000]])\n",
        "M4 = inv(tf * N4)\n",
        "# Solve linear system of equations by matrix manipulation\n",
        "P4 = inv(tau*M4 + np.eye(4))\n",
        "Q4 = np.dot(tau*M4,np.ones(4)*x0) + k*np.ones(4)\n",
        "v4 = np.dot(P4, Q4)\n",
        "x4 = np.insert(v4,0,x0)\n",
        "\n",
        "# compare results\n",
        "import matplotlib.pyplot as plt\n",
        "plt.figure(1)\n",
        "plt.subplot(2,1,1)\n",
        "plt.plot(time,x,'r-',linewidth=3)\n",
        "plt.plot(t2,x2,'b-.',linewidth=2,markersize=20)\n",
        "plt.plot(t3,x3,'k:.',linewidth=2,markersize=20)\n",
        "plt.plot(t4,x4,'g.-',linewidth=2,markersize=20)\n",
        "plt.xlabel('Time')\n",
        "plt.ylabel('Value')\n",
        "plt.legend(['Exact','3 Points','4 Points','5 Points'])\n",
        "plt.text(4,0.5,'tau dx/dt = -x + k u')\n",
        "\n",
        "plt.subplot(2,1,2)\n",
        "# exact solutions at collocation points\n",
        "y2 = k*(1-np.exp(-t2/tau))\n",
        "y3 = k*(1-np.exp(-t3/tau))\n",
        "y4 = k*(1-np.exp(-t4/tau))\n",
        "plt.plot(t2,x2-y2,'b--.',linewidth=2,markersize=20)\n",
        "plt.plot(t3,x3-y3,'k:.',linewidth=2,markersize=20)\n",
        "plt.plot(t4,x4-y4,'g.-',linewidth=2,markersize=20)\n",
        "plt.xlabel('Time')\n",
        "plt.ylabel('Error')\n",
        "plt.legend(['3 Points','4 Points','5 Points'])\n",
        "plt.show()\n"
      ],
      "execution_count": null,
      "outputs": [
        {
          "output_type": "display_data",
          "data": {
            "image/png": "[encoded data removed]",
            "text/plain": [
              "<Figure size 576x396 with 2 Axes>"
            ]
          },
          "metadata": {
            "tags": []
          }
        }
      ]
    },
    {
      "metadata": {
        "id": "iaCfw754_SOA",
        "cellView": "form",
        "outputId": "e72c4d1a-6b21-4696-eec6-fcb9b3781f51",
        "colab": {
          "base_uri": "https://localhost:8080/",
          "height": 372
        }
      },
      "cell_type": "code",
      "source": [
        "#@title\n",
        "%%html\n",
        "<div><img src='http://apmonitor.com/do/uploads/Main/download.png' alt='' title='' /> <a class='urllink' href='http://apmonitor.com/do/uploads/Main/orthogonal_collocation.zip' rel='nofollow'>Orthogonal Collocation in MATLAB</a></div>\n",
        "<div class='vspace'></div>\n",
        "<iframe width=\"560\" height=\"315\" src=\"https://www.youtube.com/embed/sxFTAF_xtLg?rel=0\" frameborder=\"0\" allowfullscreen></iframe>\n"
      ],
      "execution_count": null,
      "outputs": [
        {
          "output_type": "display_data",
          "data": {
            "text/html": [
              "<div><img src='http://apmonitor.com/do/uploads/Main/download.png' alt='' title='' /> <a class='urllink' href='http://apmonitor.com/do/uploads/Main/orthogonal_collocation.zip' rel='nofollow'>Orthogonal Collocation in MATLAB</a></div>\n",
              "<div class='vspace'></div>\n",
              "<iframe width=\"560\" height=\"315\" src=\"https://www.youtube.com/embed/sxFTAF_xtLg?rel=0\" frameborder=\"0\" allowfullscreen></iframe>"
            ],
            "text/plain": [
              "<IPython.core.display.HTML object>"
            ]
          },
          "metadata": {
            "tags": []
          }
        }
      ]
    },
    {
      "metadata": {
        "id": "EUOuDf_pACGQ"
      },
      "cell_type": "markdown",
      "source": [
        "##Exercise 1\n",
        "\n",
        "Objective: Solve a differential equation with orthogonal collocation on finite elements. Create a MATLAB or Python script to simulate and display the results. Estimated Time: 2-3 hours\n",
        "\n",
        "Solve the following differential equation from time 0 to 1 with orthogonal collocation on finite elements with 4 nodes for discretization in time.\n",
        "\n",
        "$5 dx/dt = -x2 + u$\n",
        "\n",
        "Specify the initial condition for x as 0 and the value of the input, u, as 4. Compare the solution result with 2-6 time points (nodes). Report the solution at the final time for each and comment on how the solution changes with an increase in the number of nodes."
      ]
    },
    {
      "metadata": {
        "id": "85iw0bAzGHBp"
      },
      "cell_type": "markdown",
      "source": [
        "##Solution 1\n",
        "\n",
        "<div><img src='http://apmonitor.com/do/uploads/Main/download.png' alt='' title='' /> <a class='urllink' href='http://apmonitor.com/do/uploads/Main/collocation_exercise.zip' rel='nofollow'>Collocation in MATLAB and Python (APM Solution)</a></div>\n",
        "\n"
      ]
    },
    {
      "metadata": {
        "id": "GDCaTFmjA5L5",
        "colab": {
          "base_uri": "https://localhost:8080/",
          "height": 1000,
          "referenced_widgets": [
            "d4419febd6d24f45aadd5bf316720631",
            "43aa609d41fa48ca9878c0345ced7fa0"
          ]
        },
        "outputId": "88b75236-f317-4b7d-a035-a7ff77d7c22c"
      },
      "cell_type": "code",
      "source": [
        "#@markdown Solution with GEKKO\n",
        "\n",
        "try:\n",
        "    from pip import main as pipmain\n",
        "except:\n",
        "    from pip._internal import main as pipmain\n",
        "pipmain(['install','gekko'])\n",
        "\n",
        "from __future__ import division\n",
        "import numpy as np\n",
        "from scipy.optimize import fsolve\n",
        "from scipy.integrate import odeint\n",
        "import matplotlib.pyplot as plt\n",
        "\n",
        "# final time\n",
        "tf = 1.0\n",
        "\n",
        "# solve with ODEINT (for comparison)\n",
        "def model(x,t):\n",
        "    u = 4.0\n",
        "    return (-x**2 + u)/5.0\n",
        "t = np.linspace(0,tf,20)\n",
        "y0 = 0\n",
        "y = odeint(model,y0,t)\n",
        "plt.figure(1)\n",
        "plt.plot(t,y,'r-',label='ODEINT')\n",
        "\n",
        "# ----------------------------------------------------\n",
        "# Approach #1 - Write the model equations in Python\n",
        "# ----------------------------------------------------\n",
        "# define collocation matrices\n",
        "def colloc(n):\n",
        "    if (n==2):\n",
        "        NC = np.array([[1.0]])\n",
        "    if (n==3):\n",
        "        NC = np.array([[0.75,-0.25], \\\n",
        "                       [1.00, 0.00]])\n",
        "    if (n==4):\n",
        "        NC = np.array([[0.436,-0.281, 0.121], \\\n",
        "                       [0.614, 0.064, 0.0461], \\\n",
        "                       [0.603, 0.230, 0.167]])\n",
        "    if (n==5):\n",
        "        NC = np.array([[0.278, -0.202, 0.169, -0.071], \\\n",
        "                       [0.398,  0.069, 0.064, -0.031], \\\n",
        "                       [0.387,  0.234, 0.278, -0.071], \\\n",
        "                       [0.389,  0.222, 0.389,  0.000]])\n",
        "    if (n==6):\n",
        "        NC = np.array([[0.191, -0.147, 0.139, -0.113, 0.047],\n",
        "                       [0.276,  0.059, 0.051, -0.050, 0.022],\n",
        "                       [0.267,  0.193, 0.252, -0.114, 0.045],\n",
        "                       [0.269,  0.178, 0.384,  0.032, 0.019],\n",
        "                       [0.269,  0.181, 0.374,  0.110, 0.067]])\n",
        "    return NC\n",
        "\n",
        "# define collocation points from Lobatto quadrature\n",
        "def tc(n):\n",
        "    if (n==2):\n",
        "        time = np.array([0.0,1.0])\n",
        "    if (n==3):\n",
        "        time = np.array([0.0,0.5,1.0])\n",
        "    if (n==4):\n",
        "        time = np.array([0.0, \\\n",
        "                         0.5-np.sqrt(5)/10.0, \\\n",
        "                         0.5+np.sqrt(5)/10.0, \\\n",
        "                         1.0])\n",
        "    if (n==5):\n",
        "        time = np.array([0.0,0.5-np.sqrt(21)/14.0, \\\n",
        "                         0.5,0.5+np.sqrt(21)/14.0, 1])\n",
        "    if (n==6):\n",
        "        time = np.array([0.0, \\\n",
        "                         0.5-np.sqrt((7.0+2.0*np.sqrt(7.0))/21.0)/2.0, \\\n",
        "                         0.5-np.sqrt((7.0-2.0*np.sqrt(7.0))/21.0)/2.0, \\\n",
        "                         0.5+np.sqrt((7.0-2.0*np.sqrt(7.0))/21.0)/2.0, \\\n",
        "                         0.5+np.sqrt((7.0+2.0*np.sqrt(7.0))/21.0)/2.0, \\\n",
        "                         1.0])\n",
        "    return time*tf\n",
        "\n",
        "# solve with SciPy fsolve\n",
        "def myFunction(z,*param):\n",
        "    n = param[0]\n",
        "    m = param[1]\n",
        "    # rename z as x and xdot variables\n",
        "    x = np.empty(n-1)\n",
        "    xdot = np.empty(n-1)\n",
        "    x[0:n-1] = z[0:n-1]\n",
        "    xdot[0:n-1] = z[n-1:m]\n",
        "\n",
        "    # initial condition (x0)\n",
        "    x0 = 0.0\n",
        "    # input parameter (u)\n",
        "    u = 4.0\n",
        "    # final time\n",
        "    tn = tf\n",
        "\n",
        "    # function evaluation residuals\n",
        "    F = np.empty(m)\n",
        "    # nonlinear differential equations at each node\n",
        "    # 5 dx/dt = -x^2 + u\n",
        "    F[0:n-1] = 5.0 * xdot[0:n-1] + x[0:n-1]**2 - u\n",
        "    # collocation equations\n",
        "    # tn * NC * xdot = x - x0\n",
        "    NC = colloc(n)\n",
        "    F[n-1:m] = tn * np.dot(NC,xdot) - x + x0 * np.ones(n-1)\n",
        "    return F\n",
        "\n",
        "sol_py = np.empty(5) # store 5 results\n",
        "for i in range(2,7):\n",
        "    n = i\n",
        "    m = (i-1)*2\n",
        "    zGuess = np.ones(m)\n",
        "    z = fsolve(myFunction,zGuess,args=(n,m))\n",
        "    # add to plot\n",
        "    yc = np.insert(z[0:n-1],0,0)\n",
        "    plt.plot(tc(n),yc,'o',markersize=10,label='Nodes = '+str(i))\n",
        "    # store just the last x[n] value\n",
        "    sol_py[i-2] = z[n-2]\n",
        "plt.legend(loc='best')\n",
        "\n",
        "# ----------------------------------------------------\n",
        "# Approach #2 - Write model in APMonitor and let\n",
        "#   modeling language create the collocation equations\n",
        "# ----------------------------------------------------\n",
        "# load GEKKO\n",
        "from gekko import GEKKO\n",
        "\n",
        "sol_apm = np.empty(5) # store 5 results\n",
        "i = 0\n",
        "for nodes in range(2,7):\n",
        "    m = GEKKO()\n",
        "\n",
        "    u = m.Param(value=4)\n",
        "    x = m.Var(value=0)\n",
        "    m.Equation(5*x.dt() == -x**2 + u)\n",
        "\n",
        "    m.time = [0,tf]\n",
        "\n",
        "    m.options.imode = 4\n",
        "    m.options.time_shift = 0\n",
        "    m.options.nodes = nodes\n",
        "\n",
        "    m.solve() # solve problem\n",
        "    sol_apm[i] = x.value[-1] # store solution (last point)\n",
        "    i += 1\n",
        "\n",
        "# print the solutions\n",
        "print(sol_py)\n",
        "print(sol_apm)\n",
        "\n",
        "# show plot\n",
        "plt.ylabel('x(t)')\n",
        "plt.xlabel('time')\n",
        "plt.show()"
      ],
      "execution_count": 3,
      "outputs": [
        {
          "output_type": "stream",
          "name": "stderr",
          "text": [
            "WARNING: pip is being invoked by an old script wrapper. This will fail in a future version of pip.\n",
            "Please see https://github.com/pypa/pip/issues/5599 for advice on fixing the underlying issue.\n",
            "To avoid this problem you can invoke Python with '-m pip' instead of running pip directly.\n"
          ]
        },
        {
          "output_type": "display_data",
          "data": {
            "text/plain": [
              "Collecting gekko\n"
            ],
            "text/html": [
              "<pre style=\"white-space:pre;overflow-x:auto;line-height:normal;font-family:Menlo,'DejaVu Sans Mono',consolas,'Courier New',monospace\">Collecting gekko\n",
              "</pre>\n"
            ]
          },
          "metadata": {}
        },
        {
          "output_type": "display_data",
          "data": {
            "text/plain": [
              "  Downloading gekko-1.3.0-py3-none-any.whl.metadata (3.0 kB)\n"
            ],
            "text/html": [
              "<pre style=\"white-space:pre;overflow-x:auto;line-height:normal;font-family:Menlo,'DejaVu Sans Mono',consolas,'Courier New',monospace\">  Downloading gekko-1.3.0-py3-none-any.whl.metadata (3.0 kB)\n",
              "</pre>\n"
            ]
          },
          "metadata": {}
        },
        {
          "output_type": "display_data",
          "data": {
            "text/plain": [
              "Requirement already satisfied: numpy>=1.8 in /usr/local/lib/python3.12/dist-packages (from gekko) (2.0.2)\n"
            ],
            "text/html": [
              "<pre style=\"white-space:pre;overflow-x:auto;line-height:normal;font-family:Menlo,'DejaVu Sans Mono',consolas,'Courier New',monospace\">Requirement already satisfied: numpy&gt;=1.8 in /usr/local/lib/python3.12/dist-packages (from gekko) (2.0.2)\n",
              "</pre>\n"
            ]
          },
          "metadata": {}
        },
        {
          "output_type": "display_data",
          "data": {
            "text/plain": [
              "Downloading gekko-1.3.0-py3-none-any.whl (13.2 MB)\n"
            ],
            "text/html": [
              "<pre style=\"white-space:pre;overflow-x:auto;line-height:normal;font-family:Menlo,'DejaVu Sans Mono',consolas,'Courier New',monospace\">Downloading gekko-1.3.0-py3-none-any.whl (13.2 MB)\n",
              "</pre>\n"
            ]
          },
          "metadata": {}
        },
        {
          "output_type": "display_data",
          "data": {
            "text/plain": [
              "Output()"
            ],
            "application/vnd.jupyter.widget-view+json": {
              "version_major": 2,
              "version_minor": 0,
              "model_id": "d4419febd6d24f45aadd5bf316720631"
            }
          },
          "metadata": {}
        },
        {
          "output_type": "display_data",
          "data": {
            "text/plain": [],
            "text/html": [
              "<pre style=\"white-space:pre;overflow-x:auto;line-height:normal;font-family:Menlo,'DejaVu Sans Mono',consolas,'Courier New',monospace\"></pre>\n"
            ]
          },
          "metadata": {}
        },
        {
          "output_type": "display_data",
          "data": {
            "text/plain": [
              "\n"
            ],
            "text/html": [
              "<pre style=\"white-space:pre;overflow-x:auto;line-height:normal;font-family:Menlo,'DejaVu Sans Mono',consolas,'Courier New',monospace\">\n",
              "</pre>\n"
            ]
          },
          "metadata": {}
        },
        {
          "output_type": "display_data",
          "data": {
            "text/plain": [
              "Installing collected packages: gekko\n"
            ],
            "text/html": [
              "<pre style=\"white-space:pre;overflow-x:auto;line-height:normal;font-family:Menlo,'DejaVu Sans Mono',consolas,'Courier New',monospace\">Installing collected packages: gekko\n",
              "</pre>\n"
            ]
          },
          "metadata": {}
        },
        {
          "output_type": "display_data",
          "data": {
            "text/plain": [
              "Successfully installed gekko-1.3.0\n"
            ],
            "text/html": [
              "<pre style=\"white-space:pre;overflow-x:auto;line-height:normal;font-family:Menlo,'DejaVu Sans Mono',consolas,'Courier New',monospace\">Successfully installed gekko-1.3.0\n",
              "</pre>\n"
            ]
          },
          "metadata": {}
        },
        {
          "output_type": "stream",
          "name": "stdout",
          "text": [
            "apm 34.58.50.18_gk_model0 <br><pre> ----------------------------------------------------------------\n",
            " APMonitor, Version 1.0.3\n",
            " APMonitor Optimization Suite\n",
            " ----------------------------------------------------------------\n",
            " \n",
            " \n",
            " --------- APM Model Size ------------\n",
            " Each time step contains\n",
            "   Objects      :            0\n",
            "   Constants    :            0\n",
            "   Variables    :            2\n",
            "   Intermediates:            0\n",
            "   Connections  :            0\n",
            "   Equations    :            1\n",
            "   Residuals    :            1\n",
            " \n",
            " Variable time shift OFF\n",
            " Number of state variables:              2\n",
            " Number of total equations: -            2\n",
            " Number of slack variables: -            0\n",
            " ---------------------------------------\n",
            " Degrees of freedom       :              0\n",
            " \n",
            " **********************************************\n",
            " Dynamic Simulation with Interior Point Solver\n",
            " **********************************************\n",
            "  \n",
            "  \n",
            " Info: Exact Hessian\n",
            "\n",
            "******************************************************************************\n",
            "This program contains Ipopt, a library for large-scale nonlinear optimization.\n",
            " Ipopt is released as open source code under the Eclipse Public License (EPL).\n",
            "         For more information visit http://projects.coin-or.org/Ipopt\n",
            "******************************************************************************\n",
            "\n",
            "This is Ipopt version 3.12.10, running with linear solver ma57.\n",
            "\n",
            "Number of nonzeros in equality constraint Jacobian...:        4\n",
            "Number of nonzeros in inequality constraint Jacobian.:        0\n",
            "Number of nonzeros in Lagrangian Hessian.............:        1\n",
            "\n",
            "Total number of variables............................:        2\n",
            "                     variables with only lower bounds:        0\n",
            "                variables with lower and upper bounds:        0\n",
            "                     variables with only upper bounds:        0\n",
            "Total number of equality constraints.................:        2\n",
            "Total number of inequality constraints...............:        0\n",
            "        inequality constraints with only lower bounds:        0\n",
            "   inequality constraints with lower and upper bounds:        0\n",
            "        inequality constraints with only upper bounds:        0\n",
            "\n",
            "iter    objective    inf_pr   inf_du lg(mu)  ||d||  lg(rg) alpha_du alpha_pr  ls\n",
            "   0  0.0000000e+00 4.00e+00 0.00e+00   0.0 0.00e+00    -  0.00e+00 0.00e+00   0\n",
            "   1  0.0000000e+00 6.40e-01 0.00e+00 -11.0 8.00e-01    -  1.00e+00 1.00e+00h  1\n",
            "   2  0.0000000e+00 9.40e-03 0.00e+00 -11.0 9.70e-02    -  1.00e+00 1.00e+00h  1\n",
            "   3  0.0000000e+00 2.15e-06 0.00e+00 -11.0 1.47e-03    -  1.00e+00 1.00e+00h  1\n",
            "   4  0.0000000e+00 1.13e-13 0.00e+00 -11.0 3.36e-07    -  1.00e+00 1.00e+00h  1\n",
            "\n",
            "Number of Iterations....: 4\n",
            "\n",
            "                                   (scaled)                 (unscaled)\n",
            "Objective...............:   0.0000000000000000e+00    0.0000000000000000e+00\n",
            "Dual infeasibility......:   0.0000000000000000e+00    0.0000000000000000e+00\n",
            "Constraint violation....:   1.1324274851176597e-13    1.1324274851176597e-13\n",
            "Complementarity.........:   0.0000000000000000e+00    0.0000000000000000e+00\n",
            "Overall NLP error.......:   1.1324274851176597e-13    1.1324274851176597e-13\n",
            "\n",
            "\n",
            "Number of objective function evaluations             = 5\n",
            "Number of objective gradient evaluations             = 5\n",
            "Number of equality constraint evaluations            = 5\n",
            "Number of inequality constraint evaluations          = 0\n",
            "Number of equality constraint Jacobian evaluations   = 5\n",
            "Number of inequality constraint Jacobian evaluations = 0\n",
            "Number of Lagrangian Hessian evaluations             = 4\n",
            "Total CPU secs in IPOPT (w/o function evaluations)   =      0.003\n",
            "Total CPU secs in NLP function evaluations           =      0.000\n",
            "\n",
            "EXIT: Optimal Solution Found.\n",
            " \n",
            " The solution was found.\n",
            " \n",
            " The final value of the objective function is   0.000000000000000E+000\n",
            " \n",
            " ---------------------------------------------------\n",
            " Solver         :  IPOPT (v3.12)\n",
            " Solution time  :   5.900000000110595E-003 sec\n",
            " Objective      :   0.000000000000000E+000\n",
            " Successful solution\n",
            " ---------------------------------------------------\n",
            " \n",
            "apm 34.58.50.18_gk_model1 <br><pre> ----------------------------------------------------------------\n",
            " APMonitor, Version 1.0.3\n",
            " APMonitor Optimization Suite\n",
            " ----------------------------------------------------------------\n",
            " \n",
            " \n",
            " --------- APM Model Size ------------\n",
            " Each time step contains\n",
            "   Objects      :            0\n",
            "   Constants    :            0\n",
            "   Variables    :            2\n",
            "   Intermediates:            0\n",
            "   Connections  :            0\n",
            "   Equations    :            1\n",
            "   Residuals    :            1\n",
            " \n",
            " Variable time shift OFF\n",
            " Number of state variables:              4\n",
            " Number of total equations: -            4\n",
            " Number of slack variables: -            0\n",
            " ---------------------------------------\n",
            " Degrees of freedom       :              0\n",
            " \n",
            " **********************************************\n",
            " Dynamic Simulation with Interior Point Solver\n",
            " **********************************************\n",
            "  \n",
            "  \n",
            " Info: Exact Hessian\n",
            "\n",
            "******************************************************************************\n",
            "This program contains Ipopt, a library for large-scale nonlinear optimization.\n",
            " Ipopt is released as open source code under the Eclipse Public License (EPL).\n",
            "         For more information visit http://projects.coin-or.org/Ipopt\n",
            "******************************************************************************\n",
            "\n",
            "This is Ipopt version 3.12.10, running with linear solver ma57.\n",
            "\n",
            "Number of nonzeros in equality constraint Jacobian...:        9\n",
            "Number of nonzeros in inequality constraint Jacobian.:        0\n",
            "Number of nonzeros in Lagrangian Hessian.............:        2\n",
            "\n",
            "Total number of variables............................:        4\n",
            "                     variables with only lower bounds:        0\n",
            "                variables with lower and upper bounds:        0\n",
            "                     variables with only upper bounds:        0\n",
            "Total number of equality constraints.................:        4\n",
            "Total number of inequality constraints...............:        0\n",
            "        inequality constraints with only lower bounds:        0\n",
            "   inequality constraints with lower and upper bounds:        0\n",
            "        inequality constraints with only upper bounds:        0\n",
            "\n",
            "iter    objective    inf_pr   inf_du lg(mu)  ||d||  lg(rg) alpha_du alpha_pr  ls\n",
            "   0  0.0000000e+00 4.00e+00 0.00e+00   0.0 0.00e+00    -  0.00e+00 0.00e+00   0\n",
            "   1  0.0000000e+00 6.40e-01 0.00e+00 -11.0 8.00e-01    -  1.00e+00 1.00e+00h  1\n",
            "   2  0.0000000e+00 1.07e-03 0.00e+00 -11.0 1.18e-01    -  1.00e+00 1.00e+00h  1\n",
            "   3  0.0000000e+00 1.93e-09 0.00e+00 -11.0 2.11e-04    -  1.00e+00 1.00e+00h  1\n",
            "\n",
            "Number of Iterations....: 3\n",
            "\n",
            "                                   (scaled)                 (unscaled)\n",
            "Objective...............:   0.0000000000000000e+00    0.0000000000000000e+00\n",
            "Dual infeasibility......:   0.0000000000000000e+00    0.0000000000000000e+00\n",
            "Constraint violation....:   1.9348478375036393e-09    1.9348478375036393e-09\n",
            "Complementarity.........:   0.0000000000000000e+00    0.0000000000000000e+00\n",
            "Overall NLP error.......:   1.9348478375036393e-09    1.9348478375036393e-09\n",
            "\n",
            "\n",
            "Number of objective function evaluations             = 4\n",
            "Number of objective gradient evaluations             = 4\n",
            "Number of equality constraint evaluations            = 4\n",
            "Number of inequality constraint evaluations          = 0\n",
            "Number of equality constraint Jacobian evaluations   = 4\n",
            "Number of inequality constraint Jacobian evaluations = 0\n",
            "Number of Lagrangian Hessian evaluations             = 3\n",
            "Total CPU secs in IPOPT (w/o function evaluations)   =      0.001\n",
            "Total CPU secs in NLP function evaluations           =      0.000\n",
            "\n",
            "EXIT: Optimal Solution Found.\n",
            " \n",
            " The solution was found.\n",
            " \n",
            " The final value of the objective function is   0.000000000000000E+000\n",
            " \n",
            " ---------------------------------------------------\n",
            " Solver         :  IPOPT (v3.12)\n",
            " Solution time  :   5.600000000413274E-003 sec\n",
            " Objective      :   0.000000000000000E+000\n",
            " Successful solution\n",
            " ---------------------------------------------------\n",
            " \n",
            "apm 34.58.50.18_gk_model2 <br><pre> ----------------------------------------------------------------\n",
            " APMonitor, Version 1.0.3\n",
            " APMonitor Optimization Suite\n",
            " ----------------------------------------------------------------\n",
            " \n",
            " \n",
            " --------- APM Model Size ------------\n",
            " Each time step contains\n",
            "   Objects      :            0\n",
            "   Constants    :            0\n",
            "   Variables    :            2\n",
            "   Intermediates:            0\n",
            "   Connections  :            0\n",
            "   Equations    :            1\n",
            "   Residuals    :            1\n",
            " \n",
            " Variable time shift OFF\n",
            " Number of state variables:              6\n",
            " Number of total equations: -            6\n",
            " Number of slack variables: -            0\n",
            " ---------------------------------------\n",
            " Degrees of freedom       :              0\n",
            " \n",
            " **********************************************\n",
            " Dynamic Simulation with Interior Point Solver\n",
            " **********************************************\n",
            "  \n",
            "  \n",
            " Info: Exact Hessian\n",
            "\n",
            "******************************************************************************\n",
            "This program contains Ipopt, a library for large-scale nonlinear optimization.\n",
            " Ipopt is released as open source code under the Eclipse Public License (EPL).\n",
            "         For more information visit http://projects.coin-or.org/Ipopt\n",
            "******************************************************************************\n",
            "\n",
            "This is Ipopt version 3.12.10, running with linear solver ma57.\n",
            "\n",
            "Number of nonzeros in equality constraint Jacobian...:       18\n",
            "Number of nonzeros in inequality constraint Jacobian.:        0\n",
            "Number of nonzeros in Lagrangian Hessian.............:        3\n",
            "\n",
            "Total number of variables............................:        6\n",
            "                     variables with only lower bounds:        0\n",
            "                variables with lower and upper bounds:        0\n",
            "                     variables with only upper bounds:        0\n",
            "Total number of equality constraints.................:        6\n",
            "Total number of inequality constraints...............:        0\n",
            "        inequality constraints with only lower bounds:        0\n",
            "   inequality constraints with lower and upper bounds:        0\n",
            "        inequality constraints with only upper bounds:        0\n",
            "\n",
            "iter    objective    inf_pr   inf_du lg(mu)  ||d||  lg(rg) alpha_du alpha_pr  ls\n",
            "   0  0.0000000e+00 4.00e+00 0.00e+00   0.0 0.00e+00    -  0.00e+00 0.00e+00   0\n",
            "Reallocating memory for MA57: lfact (277)\n",
            "   1  0.0000000e+00 6.40e-01 0.00e+00 -11.0 8.00e-01    -  1.00e+00 1.00e+00h  1\n",
            "   2  0.0000000e+00 1.58e-03 0.00e+00 -11.0 1.15e-01    -  1.00e+00 1.00e+00h  1\n",
            "   3  0.0000000e+00 3.42e-09 0.00e+00 -11.0 2.98e-04    -  1.00e+00 1.00e+00h  1\n",
            "\n",
            "Number of Iterations....: 3\n",
            "\n",
            "                                   (scaled)                 (unscaled)\n",
            "Objective...............:   0.0000000000000000e+00    0.0000000000000000e+00\n",
            "Dual infeasibility......:   0.0000000000000000e+00    0.0000000000000000e+00\n",
            "Constraint violation....:   3.4161065087801035e-09    3.4161065087801035e-09\n",
            "Complementarity.........:   0.0000000000000000e+00    0.0000000000000000e+00\n",
            "Overall NLP error.......:   3.4161065087801035e-09    3.4161065087801035e-09\n",
            "\n",
            "\n",
            "Number of objective function evaluations             = 4\n",
            "Number of objective gradient evaluations             = 4\n",
            "Number of equality constraint evaluations            = 4\n",
            "Number of inequality constraint evaluations          = 0\n",
            "Number of equality constraint Jacobian evaluations   = 4\n",
            "Number of inequality constraint Jacobian evaluations = 0\n",
            "Number of Lagrangian Hessian evaluations             = 3\n",
            "Total CPU secs in IPOPT (w/o function evaluations)   =      0.002\n",
            "Total CPU secs in NLP function evaluations           =      0.000\n",
            "\n",
            "EXIT: Optimal Solution Found.\n",
            " \n",
            " The solution was found.\n",
            " \n",
            " The final value of the objective function is   0.000000000000000E+000\n",
            " \n",
            " ---------------------------------------------------\n",
            " Solver         :  IPOPT (v3.12)\n",
            " Solution time  :   5.700000001525041E-003 sec\n",
            " Objective      :   0.000000000000000E+000\n",
            " Successful solution\n",
            " ---------------------------------------------------\n",
            " \n",
            "apm 34.58.50.18_gk_model3 <br><pre> ----------------------------------------------------------------\n",
            " APMonitor, Version 1.0.3\n",
            " APMonitor Optimization Suite\n",
            " ----------------------------------------------------------------\n",
            " \n",
            " \n",
            " --------- APM Model Size ------------\n",
            " Each time step contains\n",
            "   Objects      :            0\n",
            "   Constants    :            0\n",
            "   Variables    :            2\n",
            "   Intermediates:            0\n",
            "   Connections  :            0\n",
            "   Equations    :            1\n",
            "   Residuals    :            1\n",
            " \n",
            " Variable time shift OFF\n",
            " Number of state variables:              8\n",
            " Number of total equations: -            8\n",
            " Number of slack variables: -            0\n",
            " ---------------------------------------\n",
            " Degrees of freedom       :              0\n",
            " \n",
            " **********************************************\n",
            " Dynamic Simulation with Interior Point Solver\n",
            " **********************************************\n",
            "  \n",
            "  \n",
            " Info: Exact Hessian\n",
            "\n",
            "******************************************************************************\n",
            "This program contains Ipopt, a library for large-scale nonlinear optimization.\n",
            " Ipopt is released as open source code under the Eclipse Public License (EPL).\n",
            "         For more information visit http://projects.coin-or.org/Ipopt\n",
            "******************************************************************************\n",
            "\n",
            "This is Ipopt version 3.12.10, running with linear solver ma57.\n",
            "\n",
            "Number of nonzeros in equality constraint Jacobian...:       27\n",
            "Number of nonzeros in inequality constraint Jacobian.:        0\n",
            "Number of nonzeros in Lagrangian Hessian.............:        4\n",
            "\n",
            "Total number of variables............................:        8\n",
            "                     variables with only lower bounds:        0\n",
            "                variables with lower and upper bounds:        0\n",
            "                     variables with only upper bounds:        0\n",
            "Total number of equality constraints.................:        8\n",
            "Total number of inequality constraints...............:        0\n",
            "        inequality constraints with only lower bounds:        0\n",
            "   inequality constraints with lower and upper bounds:        0\n",
            "        inequality constraints with only upper bounds:        0\n",
            "\n",
            "iter    objective    inf_pr   inf_du lg(mu)  ||d||  lg(rg) alpha_du alpha_pr  ls\n",
            "   0  0.0000000e+00 4.00e+00 0.00e+00   0.0 0.00e+00    -  0.00e+00 0.00e+00   0\n",
            "Reallocating memory for MA57: lfact (474)\n",
            "   1  0.0000000e+00 6.40e-01 0.00e+00 -11.0 8.00e-01    -  1.00e+00 1.00e+00h  1\n",
            "   2  0.0000000e+00 1.61e-03 0.00e+00 -11.0 1.15e-01    -  1.00e+00 1.00e+00h  1\n",
            "   3  0.0000000e+00 1.79e-09 0.00e+00 -11.0 3.09e-04    -  1.00e+00 1.00e+00h  1\n",
            "\n",
            "Number of Iterations....: 3\n",
            "\n",
            "                                   (scaled)                 (unscaled)\n",
            "Objective...............:   0.0000000000000000e+00    0.0000000000000000e+00\n",
            "Dual infeasibility......:   0.0000000000000000e+00    0.0000000000000000e+00\n",
            "Constraint violation....:   1.7923995621060840e-09    1.7923995621060840e-09\n",
            "Complementarity.........:   0.0000000000000000e+00    0.0000000000000000e+00\n",
            "Overall NLP error.......:   1.7923995621060840e-09    1.7923995621060840e-09\n",
            "\n",
            "\n",
            "Number of objective function evaluations             = 4\n",
            "Number of objective gradient evaluations             = 4\n",
            "Number of equality constraint evaluations            = 4\n",
            "Number of inequality constraint evaluations          = 0\n",
            "Number of equality constraint Jacobian evaluations   = 4\n",
            "Number of inequality constraint Jacobian evaluations = 0\n",
            "Number of Lagrangian Hessian evaluations             = 3\n",
            "Total CPU secs in IPOPT (w/o function evaluations)   =      0.002\n",
            "Total CPU secs in NLP function evaluations           =      0.000\n",
            "\n",
            "EXIT: Optimal Solution Found.\n",
            " \n",
            " The solution was found.\n",
            " \n",
            " The final value of the objective function is   0.000000000000000E+000\n",
            " \n",
            " ---------------------------------------------------\n",
            " Solver         :  IPOPT (v3.12)\n",
            " Solution time  :   5.799999998998828E-003 sec\n",
            " Objective      :   0.000000000000000E+000\n",
            " Successful solution\n",
            " ---------------------------------------------------\n",
            " \n",
            "apm 34.58.50.18_gk_model4 <br><pre> ----------------------------------------------------------------\n",
            " APMonitor, Version 1.0.3\n",
            " APMonitor Optimization Suite\n",
            " ----------------------------------------------------------------\n",
            " \n",
            " \n",
            " --------- APM Model Size ------------\n",
            " Each time step contains\n",
            "   Objects      :            0\n",
            "   Constants    :            0\n",
            "   Variables    :            2\n",
            "   Intermediates:            0\n",
            "   Connections  :            0\n",
            "   Equations    :            1\n",
            "   Residuals    :            1\n",
            " \n",
            " Variable time shift OFF\n",
            " Number of state variables:             10\n",
            " Number of total equations: -           10\n",
            " Number of slack variables: -            0\n",
            " ---------------------------------------\n",
            " Degrees of freedom       :              0\n",
            " \n",
            " **********************************************\n",
            " Dynamic Simulation with Interior Point Solver\n",
            " **********************************************\n",
            "  \n",
            "  \n",
            " Info: Exact Hessian\n",
            "\n",
            "******************************************************************************\n",
            "This program contains Ipopt, a library for large-scale nonlinear optimization.\n",
            " Ipopt is released as open source code under the Eclipse Public License (EPL).\n",
            "         For more information visit http://projects.coin-or.org/Ipopt\n",
            "******************************************************************************\n",
            "\n",
            "This is Ipopt version 3.12.10, running with linear solver ma57.\n",
            "\n",
            "Number of nonzeros in equality constraint Jacobian...:       40\n",
            "Number of nonzeros in inequality constraint Jacobian.:        0\n",
            "Number of nonzeros in Lagrangian Hessian.............:        5\n",
            "\n",
            "Total number of variables............................:       10\n",
            "                     variables with only lower bounds:        0\n",
            "                variables with lower and upper bounds:        0\n",
            "                     variables with only upper bounds:        0\n",
            "Total number of equality constraints.................:       10\n",
            "Total number of inequality constraints...............:        0\n",
            "        inequality constraints with only lower bounds:        0\n",
            "   inequality constraints with lower and upper bounds:        0\n",
            "        inequality constraints with only upper bounds:        0\n",
            "\n",
            "iter    objective    inf_pr   inf_du lg(mu)  ||d||  lg(rg) alpha_du alpha_pr  ls\n",
            "   0  0.0000000e+00 4.00e+00 0.00e+00   0.0 0.00e+00    -  0.00e+00 0.00e+00   0\n",
            "Reallocating memory for MA57: lfact (726)\n",
            "   1  0.0000000e+00 6.40e-01 0.00e+00 -11.0 8.00e-01    -  1.00e+00 1.00e+00h  1\n",
            "   2  0.0000000e+00 1.60e-03 0.00e+00 -11.0 1.15e-01    -  1.00e+00 1.00e+00h  1\n",
            "   3  0.0000000e+00 2.12e-09 0.00e+00 -11.0 3.07e-04    -  1.00e+00 1.00e+00h  1\n",
            "\n",
            "Number of Iterations....: 3\n",
            "\n",
            "                                   (scaled)                 (unscaled)\n",
            "Objective...............:   0.0000000000000000e+00    0.0000000000000000e+00\n",
            "Dual infeasibility......:   0.0000000000000000e+00    0.0000000000000000e+00\n",
            "Constraint violation....:   2.1151613793790602e-09    2.1151613793790602e-09\n",
            "Complementarity.........:   0.0000000000000000e+00    0.0000000000000000e+00\n",
            "Overall NLP error.......:   2.1151613793790602e-09    2.1151613793790602e-09\n",
            "\n",
            "\n",
            "Number of objective function evaluations             = 4\n",
            "Number of objective gradient evaluations             = 4\n",
            "Number of equality constraint evaluations            = 4\n",
            "Number of inequality constraint evaluations          = 0\n",
            "Number of equality constraint Jacobian evaluations   = 4\n",
            "Number of inequality constraint Jacobian evaluations = 0\n",
            "Number of Lagrangian Hessian evaluations             = 3\n",
            "Total CPU secs in IPOPT (w/o function evaluations)   =      0.002\n",
            "Total CPU secs in NLP function evaluations           =      0.000\n",
            "\n",
            "EXIT: Optimal Solution Found.\n",
            " \n",
            " The solution was found.\n",
            " \n",
            " The final value of the objective function is   0.000000000000000E+000\n",
            " \n",
            " ---------------------------------------------------\n",
            " Solver         :  IPOPT (v3.12)\n",
            " Solution time  :   5.800000002636807E-003 sec\n",
            " Objective      :   0.000000000000000E+000\n",
            " Successful solution\n",
            " ---------------------------------------------------\n",
            " \n",
            "[0.70156212 0.7672199  0.76020878 0.75980704 0.76059776]\n",
            "[0.70156212 0.7672199  0.76022945 0.75986995 0.75989594]\n"
          ]
        },
        {
          "output_type": "display_data",
          "data": {
            "text/plain": [
              "<Figure size 640x480 with 1 Axes>"
            ],
            "image/png": "[encoded data removed]"
          },
          "metadata": {}
        }
      ]
    },
    {
      "metadata": {
        "id": "GZSEbOQnCMDt",
        "outputId": "0166db02-dda6-4f6d-be8c-3f7928fdbb0a",
        "cellView": "form",
        "colab": {
          "base_uri": "https://localhost:8080/",
          "height": 336
        }
      },
      "cell_type": "code",
      "source": [
        "#@title\n",
        "%%html\n",
        "<iframe width=\"560\" height=\"315\" src=\"https://www.youtube.com/embed/DBjmW4Lwpjc?rel=0\" frameborder=\"0\" allowfullscreen></iframe>\n"
      ],
      "execution_count": null,
      "outputs": [
        {
          "output_type": "display_data",
          "data": {
            "text/html": [
              "<iframe width=\"560\" height=\"315\" src=\"https://www.youtube.com/embed/DBjmW4Lwpjc?rel=0\" frameborder=\"0\" allowfullscreen></iframe>"
            ],
            "text/plain": [
              "<IPython.core.display.HTML object>"
            ]
          },
          "metadata": {
            "tags": []
          }
        }
      ]
    },
    {
      "metadata": {
        "id": "IdD-j0XyaPHR"
      },
      "cell_type": "markdown",
      "source": [
        "##Exercise 2\n",
        "\n",
        "<p>Compare orthogonal collocation on finite elements with 3 nodes with a numerical integrator (e.g. ODE15s in MATLAB or ODEINT in Python). Calculate the error at each of the solution points for the equation (same as for Exercise 1):\n",
        "</p>\n",
        "<div class='vspace'></div><pre> 5 dx/dt = -x<sup>2</sup> + u\n",
        "</pre><div class='vspace'></div>\n"
      ]
    },
    {
      "metadata": {
        "id": "y4kVql43wCpd"
      },
      "cell_type": "markdown",
      "source": [
        "\n",
        "##Solution 2\n",
        "<div><img src='http://apmonitor.com/do/uploads/Main/collocation_compare.png' alt='' title='' /></div>\n",
        "<div><img src='http://apmonitor.com/do/uploads/Main/download.png' alt='' title='' /> <a class='urllink' href='http://apmonitor.com/do/uploads/Main/collocation_compare.zip' rel='nofollow'>Collocation Solution (APM, ODE15s (MATLAB), ODEINT (Python))</a></div>"
      ]
    },
    {
      "metadata": {
        "id": "vSeIiZcYaLvd",
        "outputId": "7718127d-e987-4860-f17a-0d1e03fb1081",
        "cellView": "form",
        "colab": {
          "base_uri": "https://localhost:8080/",
          "height": 336
        }
      },
      "cell_type": "code",
      "source": [
        "#@title\n",
        "%%html\n",
        "\n",
        "<iframe width=\"560\" height=\"315\" src=\"https://www.youtube.com/embed/8LmIqeuHGL0\" frameborder=\"0\" allowfullscreen></iframe>\n"
      ],
      "execution_count": null,
      "outputs": [
        {
          "output_type": "display_data",
          "data": {
            "text/html": [
              "\n",
              "<iframe width=\"560\" height=\"315\" src=\"https://www.youtube.com/embed/8LmIqeuHGL0\" frameborder=\"0\" allowfullscreen></iframe>"
            ],
            "text/plain": [
              "<IPython.core.display.HTML object>"
            ]
          },
          "metadata": {
            "tags": []
          }
        }
      ]
    },
    {
      "metadata": {
        "id": "xegdIaAUakDe",
        "colab": {
          "base_uri": "https://localhost:8080/"
        },
        "outputId": "fe56c0e3-fd11-4bec-c395-6c4bb3459dfc"
      },
      "cell_type": "code",
      "source": [
        "#@markdown Solution ODEINT Python\n",
        "\n",
        "from scipy.integrate import odeint\n",
        "import numpy as np\n",
        "\n",
        "\n",
        "def collocation(x,t):\n",
        "    u = 4\n",
        "    xdot = -x**2 / 5.0 + u / 5.0\n",
        "\n",
        "    return xdot\n",
        "\n",
        "y3 = odeint(collocation,[0],[0, 0.5, 1])\n",
        "\n",
        "print('ODEINT solution')\n",
        "print('x1 = ' + str(y3[1]))\n",
        "print('x2 = ' + str(y3[2]))\n",
        "print(' ')"
      ],
      "execution_count": 2,
      "outputs": [
        {
          "output_type": "stream",
          "name": "stdout",
          "text": [
            "ODEINT solution\n",
            "x1 = [0.3947507]\n",
            "x2 = [0.75989797]\n",
            " \n"
          ]
        }
      ]
    },
    {
      "cell_type": "markdown",
      "source": [
        "# Nieuwe sectie"
      ],
      "metadata": {
        "id": "hTJIjk7ZHF5d"
      }
    }
  ]
}